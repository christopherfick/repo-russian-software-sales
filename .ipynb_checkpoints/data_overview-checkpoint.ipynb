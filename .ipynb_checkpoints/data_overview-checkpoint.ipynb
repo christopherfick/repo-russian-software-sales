{
 "cells": [
  {
   "cell_type": "code",
   "execution_count": 2,
   "id": "a6190ed6",
   "metadata": {},
   "outputs": [],
   "source": [
    "import pandas as pd\n",
    "import numpy as np\n",
    "\n",
    "import os"
   ]
  },
  {
   "cell_type": "code",
   "execution_count": 52,
   "id": "58afbf9a",
   "metadata": {},
   "outputs": [],
   "source": [
    "def load_data(data_dir):\n",
    "    \"\"\"Loads all data as a dictionary\"\"\"\n",
    "    data_files = os.listdir(data_dir)\n",
    "    data_dict = {}\n",
    "    for file in data_files:\n",
    "        file_name = file.split('.')[0]\n",
    "        data_dict[file_name] = pd.read_csv('data/' + file)\n",
    "        \n",
    "    return data_dict\n",
    "    \n",
    "data = load_data('data')"
   ]
  },
  {
   "cell_type": "code",
   "execution_count": 53,
   "id": "891342e3",
   "metadata": {},
   "outputs": [
    {
     "data": {
      "text/plain": [
       "dict_keys(['items', 'shops', 'item_categories', 'sales_train', 'test', 'sample_submission'])"
      ]
     },
     "execution_count": 53,
     "metadata": {},
     "output_type": "execute_result"
    }
   ],
   "source": [
    "data.keys()"
   ]
  },
  {
   "cell_type": "markdown",
   "id": "8a5bcb18",
   "metadata": {},
   "source": [
    "At this moment I won't be needing 'test' and 'sample_submission'"
   ]
  },
  {
   "cell_type": "code",
   "execution_count": 54,
   "id": "d1580acb",
   "metadata": {},
   "outputs": [],
   "source": [
    "try:\n",
    "    del data['test']\n",
    "    del data['sample_submission']\n",
    "except KeyError:\n",
    "    pass"
   ]
  },
  {
   "cell_type": "markdown",
   "id": "bf627df5",
   "metadata": {},
   "source": [
    "#### Basic overview of data"
   ]
  },
  {
   "cell_type": "code",
   "execution_count": 58,
   "id": "f51dd419",
   "metadata": {
    "scrolled": false
   },
   "outputs": [
    {
     "name": "stdout",
     "output_type": "stream",
     "text": [
      "items: \n",
      "\n",
      "Null: \n",
      " item_name           0\n",
      "item_id             0\n",
      "item_category_id    0\n",
      "dtype: int64 \n",
      "\n",
      "<class 'pandas.core.frame.DataFrame'>\n",
      "RangeIndex: 22170 entries, 0 to 22169\n",
      "Data columns (total 3 columns):\n",
      " #   Column            Non-Null Count  Dtype \n",
      "---  ------            --------------  ----- \n",
      " 0   item_name         22170 non-null  object\n",
      " 1   item_id           22170 non-null  int64 \n",
      " 2   item_category_id  22170 non-null  int64 \n",
      "dtypes: int64(2), object(1)\n",
      "memory usage: 519.7+ KB\n",
      "\n",
      " Describe: \n",
      "            item_id  item_category_id\n",
      "count  22170.00000      22170.000000\n",
      "mean   11084.50000         46.290753\n",
      "std     6400.07207         15.941486\n",
      "min        0.00000          0.000000\n",
      "25%     5542.25000         37.000000\n",
      "50%    11084.50000         40.000000\n",
      "75%    16626.75000         58.000000\n",
      "max    22169.00000         83.000000\n",
      "____________________________________________________________________________________________________\n",
      "shops: \n",
      "\n",
      "Null: \n",
      " shop_name    0\n",
      "shop_id      0\n",
      "dtype: int64 \n",
      "\n",
      "<class 'pandas.core.frame.DataFrame'>\n",
      "RangeIndex: 60 entries, 0 to 59\n",
      "Data columns (total 2 columns):\n",
      " #   Column     Non-Null Count  Dtype \n",
      "---  ------     --------------  ----- \n",
      " 0   shop_name  60 non-null     object\n",
      " 1   shop_id    60 non-null     int64 \n",
      "dtypes: int64(1), object(1)\n",
      "memory usage: 1.1+ KB\n",
      "\n",
      " Describe: \n",
      "          shop_id\n",
      "count  60.000000\n",
      "mean   29.500000\n",
      "std    17.464249\n",
      "min     0.000000\n",
      "25%    14.750000\n",
      "50%    29.500000\n",
      "75%    44.250000\n",
      "max    59.000000\n",
      "____________________________________________________________________________________________________\n",
      "item_categories: \n",
      "\n",
      "Null: \n",
      " item_category_name    0\n",
      "item_category_id      0\n",
      "dtype: int64 \n",
      "\n",
      "<class 'pandas.core.frame.DataFrame'>\n",
      "RangeIndex: 84 entries, 0 to 83\n",
      "Data columns (total 2 columns):\n",
      " #   Column              Non-Null Count  Dtype \n",
      "---  ------              --------------  ----- \n",
      " 0   item_category_name  84 non-null     object\n",
      " 1   item_category_id    84 non-null     int64 \n",
      "dtypes: int64(1), object(1)\n",
      "memory usage: 1.4+ KB\n",
      "\n",
      " Describe: \n",
      "        item_category_id\n",
      "count         84.000000\n",
      "mean          41.500000\n",
      "std           24.392622\n",
      "min            0.000000\n",
      "25%           20.750000\n",
      "50%           41.500000\n",
      "75%           62.250000\n",
      "max           83.000000\n",
      "____________________________________________________________________________________________________\n",
      "sales_train: \n",
      "\n",
      "Null: \n",
      " date              0\n",
      "date_block_num    0\n",
      "shop_id           0\n",
      "item_id           0\n",
      "item_price        0\n",
      "item_cnt_day      0\n",
      "dtype: int64 \n",
      "\n",
      "<class 'pandas.core.frame.DataFrame'>\n",
      "RangeIndex: 2935849 entries, 0 to 2935848\n",
      "Data columns (total 6 columns):\n",
      " #   Column          Dtype  \n",
      "---  ------          -----  \n",
      " 0   date            object \n",
      " 1   date_block_num  int64  \n",
      " 2   shop_id         int64  \n",
      " 3   item_id         int64  \n",
      " 4   item_price      float64\n",
      " 5   item_cnt_day    float64\n",
      "dtypes: float64(2), int64(3), object(1)\n",
      "memory usage: 134.4+ MB\n",
      "\n",
      " Describe: \n",
      "        date_block_num       shop_id       item_id    item_price  item_cnt_day\n",
      "count    2.935849e+06  2.935849e+06  2.935849e+06  2.935849e+06  2.935849e+06\n",
      "mean     1.456991e+01  3.300173e+01  1.019723e+04  8.908532e+02  1.242641e+00\n",
      "std      9.422988e+00  1.622697e+01  6.324297e+03  1.729800e+03  2.618834e+00\n",
      "min      0.000000e+00  0.000000e+00  0.000000e+00 -1.000000e+00 -2.200000e+01\n",
      "25%      7.000000e+00  2.200000e+01  4.476000e+03  2.490000e+02  1.000000e+00\n",
      "50%      1.400000e+01  3.100000e+01  9.343000e+03  3.990000e+02  1.000000e+00\n",
      "75%      2.300000e+01  4.700000e+01  1.568400e+04  9.990000e+02  1.000000e+00\n",
      "max      3.300000e+01  5.900000e+01  2.216900e+04  3.079800e+05  2.169000e+03\n",
      "____________________________________________________________________________________________________\n"
     ]
    }
   ],
   "source": [
    "for key,value in data.items():\n",
    "    print(f'{key}: \\n')\n",
    "    print(f\"Null: \\n {value.isnull().sum()} \\n\")\n",
    "    value.info()\n",
    "    print(f\"\\n Describe: \\n {value.describe()}\")\n",
    "    \n",
    "    \n",
    "    end_line = '_' * 100\n",
    "    print(end_line)"
   ]
  },
  {
   "cell_type": "code",
   "execution_count": 61,
   "id": "75c7c6ef",
   "metadata": {},
   "outputs": [
    {
     "data": {
      "text/plain": [
       "dict_keys(['items', 'shops', 'item_categories', 'sales_train'])"
      ]
     },
     "execution_count": 61,
     "metadata": {},
     "output_type": "execute_result"
    }
   ],
   "source": [
    "data.keys()"
   ]
  },
  {
   "cell_type": "markdown",
   "id": "759fbee4",
   "metadata": {},
   "source": [
    "### Data relationships:\n",
    "\n",
    "items.csv:  \n",
    "- Unique values [item_name], [item_id -> sales_train.csv]\n",
    "- [item_category_id -> item_categories.csv]\n",
    "\n",
    "shops.csv:\n",
    "- Unique values [shop_name], [shop_id -> sales_train.csv]\n",
    "\n",
    "item_categories.csv:\n",
    "- Unique values [item_category_name], [item_category_id]\n",
    "\n",
    "sales_train.csv:\n",
    "- In situ data\n",
    "- Time data as [date]\n",
    "- "
   ]
  },
  {
   "cell_type": "code",
   "execution_count": 67,
   "id": "bbeb001c",
   "metadata": {},
   "outputs": [
    {
     "data": {
      "text/html": [
       "<div>\n",
       "<style scoped>\n",
       "    .dataframe tbody tr th:only-of-type {\n",
       "        vertical-align: middle;\n",
       "    }\n",
       "\n",
       "    .dataframe tbody tr th {\n",
       "        vertical-align: top;\n",
       "    }\n",
       "\n",
       "    .dataframe thead th {\n",
       "        text-align: right;\n",
       "    }\n",
       "</style>\n",
       "<table border=\"1\" class=\"dataframe\">\n",
       "  <thead>\n",
       "    <tr style=\"text-align: right;\">\n",
       "      <th></th>\n",
       "      <th>item_name</th>\n",
       "      <th>item_id</th>\n",
       "      <th>item_category_id</th>\n",
       "    </tr>\n",
       "  </thead>\n",
       "  <tbody>\n",
       "    <tr>\n",
       "      <th>22154</th>\n",
       "      <td>ЯВЛЕНИЕ 2012 (BD)</td>\n",
       "      <td>22154</td>\n",
       "      <td>37</td>\n",
       "    </tr>\n",
       "  </tbody>\n",
       "</table>\n",
       "</div>"
      ],
      "text/plain": [
       "               item_name  item_id  item_category_id\n",
       "22154  ЯВЛЕНИЕ 2012 (BD)    22154                37"
      ]
     },
     "execution_count": 67,
     "metadata": {},
     "output_type": "execute_result"
    }
   ],
   "source": [
    "sales = data['sales_train']\n",
    "items = data['items']\n",
    "\n",
    "items[items.item_id == 22154]"
   ]
  }
 ],
 "metadata": {
  "kernelspec": {
   "display_name": "Python 3 (ipykernel)",
   "language": "python",
   "name": "python3"
  },
  "language_info": {
   "codemirror_mode": {
    "name": "ipython",
    "version": 3
   },
   "file_extension": ".py",
   "mimetype": "text/x-python",
   "name": "python",
   "nbconvert_exporter": "python",
   "pygments_lexer": "ipython3",
   "version": "3.9.12"
  }
 },
 "nbformat": 4,
 "nbformat_minor": 5
}
