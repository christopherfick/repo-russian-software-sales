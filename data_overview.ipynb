{
 "cells": [
  {
   "cell_type": "code",
   "execution_count": 32,
   "id": "a6190ed6",
   "metadata": {},
   "outputs": [],
   "source": [
    "import pandas as pd\n",
    "import numpy as np\n",
    "\n",
    "import matplotlib.pyplot as plt\n",
    "%matplotlib inline\n",
    "\n",
    "import seaborn as sns\n",
    "\n",
    "import os"
   ]
  },
  {
   "cell_type": "code",
   "execution_count": 6,
   "id": "58afbf9a",
   "metadata": {},
   "outputs": [],
   "source": [
    "def load_data(data_dir):\n",
    "    \"\"\"Loads all data as a dictionary\"\"\"\n",
    "    data_files = os.listdir(data_dir)\n",
    "    data_dict = {}\n",
    "    for file in data_files:\n",
    "        file_name = file.split('.')[0]\n",
    "        data_dict[file_name] = pd.read_csv(f'{data_dir}/' + file)\n",
    "        \n",
    "    return data_dict\n",
    "    \n",
    "data = load_data('data')"
   ]
  },
  {
   "cell_type": "code",
   "execution_count": 7,
   "id": "891342e3",
   "metadata": {},
   "outputs": [
    {
     "data": {
      "text/plain": [
       "dict_keys(['items', 'shops', 'item_categories', 'sales_train', 'test', 'sample_submission'])"
      ]
     },
     "execution_count": 7,
     "metadata": {},
     "output_type": "execute_result"
    }
   ],
   "source": [
    "data.keys()"
   ]
  },
  {
   "cell_type": "markdown",
   "id": "8a5bcb18",
   "metadata": {},
   "source": [
    "At this moment I won't be needing 'test' and 'sample_submission'"
   ]
  },
  {
   "cell_type": "code",
   "execution_count": 8,
   "id": "d1580acb",
   "metadata": {},
   "outputs": [],
   "source": [
    "try:\n",
    "    del data['test']\n",
    "    del data['sample_submission']\n",
    "except KeyError:\n",
    "    pass"
   ]
  },
  {
   "cell_type": "markdown",
   "id": "bf627df5",
   "metadata": {},
   "source": [
    "#### Basic overview of data"
   ]
  },
  {
   "cell_type": "code",
   "execution_count": 93,
   "id": "f51dd419",
   "metadata": {
    "scrolled": false
   },
   "outputs": [
    {
     "name": "stdout",
     "output_type": "stream",
     "text": [
      "items: \n",
      "\n",
      "Null: \n",
      " item_name           0\n",
      "item_id             0\n",
      "item_category_id    0\n",
      "dtype: int64 \n",
      "\n",
      "<class 'pandas.core.frame.DataFrame'>\n",
      "RangeIndex: 22170 entries, 0 to 22169\n",
      "Data columns (total 3 columns):\n",
      " #   Column            Non-Null Count  Dtype \n",
      "---  ------            --------------  ----- \n",
      " 0   item_name         22170 non-null  object\n",
      " 1   item_id           22170 non-null  int64 \n",
      " 2   item_category_id  22170 non-null  int64 \n",
      "dtypes: int64(2), object(1)\n",
      "memory usage: 519.7+ KB\n",
      "____________________________________________________________________________________________________\n",
      "shops: \n",
      "\n",
      "Null: \n",
      " shop_name    0\n",
      "shop_id      0\n",
      "dtype: int64 \n",
      "\n",
      "<class 'pandas.core.frame.DataFrame'>\n",
      "RangeIndex: 60 entries, 0 to 59\n",
      "Data columns (total 2 columns):\n",
      " #   Column     Non-Null Count  Dtype \n",
      "---  ------     --------------  ----- \n",
      " 0   shop_name  60 non-null     object\n",
      " 1   shop_id    60 non-null     int64 \n",
      "dtypes: int64(1), object(1)\n",
      "memory usage: 1.1+ KB\n",
      "____________________________________________________________________________________________________\n",
      "item_categories: \n",
      "\n",
      "Null: \n",
      " item_category_name    0\n",
      "item_category_id      0\n",
      "dtype: int64 \n",
      "\n",
      "<class 'pandas.core.frame.DataFrame'>\n",
      "RangeIndex: 84 entries, 0 to 83\n",
      "Data columns (total 2 columns):\n",
      " #   Column              Non-Null Count  Dtype \n",
      "---  ------              --------------  ----- \n",
      " 0   item_category_name  84 non-null     object\n",
      " 1   item_category_id    84 non-null     int64 \n",
      "dtypes: int64(1), object(1)\n",
      "memory usage: 1.4+ KB\n",
      "____________________________________________________________________________________________________\n",
      "sales_train: \n",
      "\n",
      "Null: \n",
      " date              0\n",
      "date_block_num    0\n",
      "shop_id           0\n",
      "item_id           0\n",
      "item_price        0\n",
      "item_cnt_day      0\n",
      "dtype: int64 \n",
      "\n",
      "<class 'pandas.core.frame.DataFrame'>\n",
      "RangeIndex: 2935849 entries, 0 to 2935848\n",
      "Data columns (total 6 columns):\n",
      " #   Column          Dtype         \n",
      "---  ------          -----         \n",
      " 0   date            datetime64[ns]\n",
      " 1   date_block_num  int64         \n",
      " 2   shop_id         int64         \n",
      " 3   item_id         int64         \n",
      " 4   item_price      float64       \n",
      " 5   item_cnt_day    float64       \n",
      "dtypes: datetime64[ns](1), float64(2), int64(3)\n",
      "memory usage: 134.4 MB\n",
      "____________________________________________________________________________________________________\n"
     ]
    }
   ],
   "source": [
    "for key,value in data.items():\n",
    "    print(f'{key}: \\n')\n",
    "    print(f\"Null: \\n {value.isnull().sum()} \\n\")\n",
    "    value.info()\n",
    "\n",
    "    end_line = '_' * 100\n",
    "    print(end_line)"
   ]
  },
  {
   "cell_type": "code",
   "execution_count": 10,
   "id": "75c7c6ef",
   "metadata": {},
   "outputs": [
    {
     "data": {
      "text/plain": [
       "dict_keys(['items', 'shops', 'item_categories', 'sales_train'])"
      ]
     },
     "execution_count": 10,
     "metadata": {},
     "output_type": "execute_result"
    }
   ],
   "source": [
    "data.keys()"
   ]
  },
  {
   "cell_type": "markdown",
   "id": "759fbee4",
   "metadata": {},
   "source": [
    "### Data relationships:\n",
    "\n",
    "items.csv:  \n",
    "- Unique values [item_name], [item_id -> sales_train.csv]\n",
    "- [item_category_id -> item_categories.csv]\n",
    "\n",
    "shops.csv:\n",
    "- Unique values [shop_name], [shop_id -> sales_train.csv]\n",
    "\n",
    "item_categories.csv:\n",
    "- Unique values [item_category_name], [item_category_id]\n",
    "\n",
    "sales_train.csv:\n",
    "- main data\n",
    "- Time data [date] (convert to datatime) [dd.mm.yy]\n",
    "- date_block_num?\n",
    "    - a consecutive month number, used for convenience. January 2013 is 0, February 2013 is 1,..., October 2015 is 33\n",
    "\n",
    "- item_cnt_day?  \n",
    "    - number of products sold"
   ]
  },
  {
   "cell_type": "markdown",
   "id": "4fa4306c",
   "metadata": {},
   "source": [
    "#### Convert dates from type string to datetime"
   ]
  },
  {
   "cell_type": "code",
   "execution_count": 39,
   "id": "a016afeb",
   "metadata": {},
   "outputs": [
    {
     "data": {
      "text/html": [
       "<div>\n",
       "<style scoped>\n",
       "    .dataframe tbody tr th:only-of-type {\n",
       "        vertical-align: middle;\n",
       "    }\n",
       "\n",
       "    .dataframe tbody tr th {\n",
       "        vertical-align: top;\n",
       "    }\n",
       "\n",
       "    .dataframe thead th {\n",
       "        text-align: right;\n",
       "    }\n",
       "</style>\n",
       "<table border=\"1\" class=\"dataframe\">\n",
       "  <thead>\n",
       "    <tr style=\"text-align: right;\">\n",
       "      <th></th>\n",
       "      <th>date</th>\n",
       "      <th>date_block_num</th>\n",
       "      <th>shop_id</th>\n",
       "      <th>item_id</th>\n",
       "      <th>item_price</th>\n",
       "      <th>item_cnt_day</th>\n",
       "    </tr>\n",
       "  </thead>\n",
       "  <tbody>\n",
       "    <tr>\n",
       "      <th>0</th>\n",
       "      <td>2013-01-02</td>\n",
       "      <td>0</td>\n",
       "      <td>59</td>\n",
       "      <td>22154</td>\n",
       "      <td>999.0</td>\n",
       "      <td>1.0</td>\n",
       "    </tr>\n",
       "    <tr>\n",
       "      <th>1</th>\n",
       "      <td>2013-01-03</td>\n",
       "      <td>0</td>\n",
       "      <td>25</td>\n",
       "      <td>2552</td>\n",
       "      <td>899.0</td>\n",
       "      <td>1.0</td>\n",
       "    </tr>\n",
       "    <tr>\n",
       "      <th>2</th>\n",
       "      <td>2013-01-05</td>\n",
       "      <td>0</td>\n",
       "      <td>25</td>\n",
       "      <td>2552</td>\n",
       "      <td>899.0</td>\n",
       "      <td>-1.0</td>\n",
       "    </tr>\n",
       "  </tbody>\n",
       "</table>\n",
       "</div>"
      ],
      "text/plain": [
       "        date  date_block_num  shop_id  item_id  item_price  item_cnt_day\n",
       "0 2013-01-02               0       59    22154       999.0           1.0\n",
       "1 2013-01-03               0       25     2552       899.0           1.0\n",
       "2 2013-01-05               0       25     2552       899.0          -1.0"
      ]
     },
     "execution_count": 39,
     "metadata": {},
     "output_type": "execute_result"
    }
   ],
   "source": [
    "sales = data['sales_train']\n",
    "sales['date'] = pd.to_datetime(sales['date'], dayfirst=True)\n",
    "sales.head(3)"
   ]
  },
  {
   "cell_type": "code",
   "execution_count": 97,
   "id": "15ae81e0",
   "metadata": {},
   "outputs": [
    {
     "data": {
      "text/html": [
       "<div>\n",
       "<style scoped>\n",
       "    .dataframe tbody tr th:only-of-type {\n",
       "        vertical-align: middle;\n",
       "    }\n",
       "\n",
       "    .dataframe tbody tr th {\n",
       "        vertical-align: top;\n",
       "    }\n",
       "\n",
       "    .dataframe thead th {\n",
       "        text-align: right;\n",
       "    }\n",
       "</style>\n",
       "<table border=\"1\" class=\"dataframe\">\n",
       "  <thead>\n",
       "    <tr style=\"text-align: right;\">\n",
       "      <th></th>\n",
       "      <th>date</th>\n",
       "      <th>date_block_num</th>\n",
       "      <th>shop_id</th>\n",
       "      <th>item_id</th>\n",
       "      <th>item_price</th>\n",
       "      <th>item_cnt_day</th>\n",
       "    </tr>\n",
       "  </thead>\n",
       "  <tbody>\n",
       "    <tr>\n",
       "      <th>484683</th>\n",
       "      <td>2013-05-15</td>\n",
       "      <td>4</td>\n",
       "      <td>32</td>\n",
       "      <td>2973</td>\n",
       "      <td>-1.00</td>\n",
       "      <td>1.00</td>\n",
       "    </tr>\n",
       "  </tbody>\n",
       "</table>\n",
       "</div>"
      ],
      "text/plain": [
       "             date  date_block_num  shop_id  item_id  item_price  item_cnt_day\n",
       "484683 2013-05-15               4       32     2973       -1.00          1.00"
      ]
     },
     "execution_count": 97,
     "metadata": {},
     "output_type": "execute_result"
    }
   ],
   "source": [
    "item = sales[sales.item_price <0]\n",
    "item"
   ]
  },
  {
   "cell_type": "code",
   "execution_count": 101,
   "id": "290393f1",
   "metadata": {},
   "outputs": [
    {
     "data": {
      "text/plain": [
       "2041.6272820512836"
      ]
     },
     "execution_count": 101,
     "metadata": {},
     "output_type": "execute_result"
    }
   ],
   "source": [
    "sales[sales.item_id == 2973]['item_price'].mean()"
   ]
  },
  {
   "cell_type": "markdown",
   "id": "d9e7417d",
   "metadata": {},
   "source": [
    "#### Round item price to two decimal places"
   ]
  },
  {
   "cell_type": "code",
   "execution_count": 86,
   "id": "89bc13d8",
   "metadata": {},
   "outputs": [],
   "source": [
    "sales['item_price'] = [round(item, 2) for item in sales['item_price']]"
   ]
  },
  {
   "cell_type": "code",
   "execution_count": 87,
   "id": "31f49904",
   "metadata": {},
   "outputs": [
    {
     "data": {
      "text/plain": [
       "count   2935849.00\n",
       "mean        890.85\n",
       "std        1729.80\n",
       "min          -1.00\n",
       "25%         249.00\n",
       "50%         399.00\n",
       "75%         999.00\n",
       "max      307980.00\n",
       "Name: item_price, dtype: float64"
      ]
     },
     "execution_count": 87,
     "metadata": {},
     "output_type": "execute_result"
    }
   ],
   "source": [
    "# Set display options as type float with two decimal places\n",
    "pd.set_option('display.float_format', lambda x: '%.2f' % x)\n",
    "sales['item_price'].describe()"
   ]
  },
  {
   "cell_type": "code",
   "execution_count": 88,
   "id": "bcccd13e",
   "metadata": {},
   "outputs": [],
   "source": [
    "# Item_price:\n",
    "## Minimum value of -1?\n",
    "### Item with price -1 (item_id = 2973) is a mistake mean price for item is about 2000\n",
    "\n",
    "## 75 percent of the items are less than 1000, max value of 307980 error?\n",
    "### item with price 307980 (item_id = 6066) only observed once in entire data set [huge outlier]\n",
    "#### Frequency decreases rapidly after (item_price > 1000)\n",
    "\n",
    "## Dataset appears to be skewed to right"
   ]
  },
  {
   "cell_type": "code",
   "execution_count": 106,
   "id": "ccbb07e5",
   "metadata": {},
   "outputs": [
    {
     "data": {
      "text/html": [
       "<div>\n",
       "<style scoped>\n",
       "    .dataframe tbody tr th:only-of-type {\n",
       "        vertical-align: middle;\n",
       "    }\n",
       "\n",
       "    .dataframe tbody tr th {\n",
       "        vertical-align: top;\n",
       "    }\n",
       "\n",
       "    .dataframe thead th {\n",
       "        text-align: right;\n",
       "    }\n",
       "</style>\n",
       "<table border=\"1\" class=\"dataframe\">\n",
       "  <thead>\n",
       "    <tr style=\"text-align: right;\">\n",
       "      <th></th>\n",
       "      <th>date</th>\n",
       "      <th>date_block_num</th>\n",
       "      <th>shop_id</th>\n",
       "      <th>item_id</th>\n",
       "      <th>item_price</th>\n",
       "      <th>item_cnt_day</th>\n",
       "    </tr>\n",
       "  </thead>\n",
       "  <tbody>\n",
       "    <tr>\n",
       "      <th>484683</th>\n",
       "      <td>2013-05-15</td>\n",
       "      <td>4</td>\n",
       "      <td>32</td>\n",
       "      <td>2973</td>\n",
       "      <td>-1.00</td>\n",
       "      <td>1.00</td>\n",
       "    </tr>\n",
       "  </tbody>\n",
       "</table>\n",
       "</div>"
      ],
      "text/plain": [
       "             date  date_block_num  shop_id  item_id  item_price  item_cnt_day\n",
       "484683 2013-05-15               4       32     2973       -1.00          1.00"
      ]
     },
     "execution_count": 106,
     "metadata": {},
     "output_type": "execute_result"
    }
   ],
   "source": [
    "sales[sales.item_price == -1]"
   ]
  },
  {
   "cell_type": "code",
   "execution_count": 103,
   "id": "a7b5d212",
   "metadata": {},
   "outputs": [
    {
     "data": {
      "text/html": [
       "<div>\n",
       "<style scoped>\n",
       "    .dataframe tbody tr th:only-of-type {\n",
       "        vertical-align: middle;\n",
       "    }\n",
       "\n",
       "    .dataframe tbody tr th {\n",
       "        vertical-align: top;\n",
       "    }\n",
       "\n",
       "    .dataframe thead th {\n",
       "        text-align: right;\n",
       "    }\n",
       "</style>\n",
       "<table border=\"1\" class=\"dataframe\">\n",
       "  <thead>\n",
       "    <tr style=\"text-align: right;\">\n",
       "      <th></th>\n",
       "      <th>date</th>\n",
       "      <th>date_block_num</th>\n",
       "      <th>shop_id</th>\n",
       "      <th>item_id</th>\n",
       "      <th>item_price</th>\n",
       "      <th>item_cnt_day</th>\n",
       "    </tr>\n",
       "  </thead>\n",
       "  <tbody>\n",
       "    <tr>\n",
       "      <th>1163158</th>\n",
       "      <td>2013-12-13</td>\n",
       "      <td>11</td>\n",
       "      <td>12</td>\n",
       "      <td>6066</td>\n",
       "      <td>307980.00</td>\n",
       "      <td>1.00</td>\n",
       "    </tr>\n",
       "  </tbody>\n",
       "</table>\n",
       "</div>"
      ],
      "text/plain": [
       "              date  date_block_num  shop_id  item_id  item_price  item_cnt_day\n",
       "1163158 2013-12-13              11       12     6066   307980.00          1.00"
      ]
     },
     "execution_count": 103,
     "metadata": {},
     "output_type": "execute_result"
    }
   ],
   "source": [
    "sales[sales.item_price > 100000]"
   ]
  }
 ],
 "metadata": {
  "kernelspec": {
   "display_name": "Python 3 (ipykernel)",
   "language": "python",
   "name": "python3"
  },
  "language_info": {
   "codemirror_mode": {
    "name": "ipython",
    "version": 3
   },
   "file_extension": ".py",
   "mimetype": "text/x-python",
   "name": "python",
   "nbconvert_exporter": "python",
   "pygments_lexer": "ipython3",
   "version": "3.9.12"
  }
 },
 "nbformat": 4,
 "nbformat_minor": 5
}
